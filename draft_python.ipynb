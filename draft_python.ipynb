{
 "cells": [
  {
   "cell_type": "code",
   "execution_count": null,
   "metadata": {
    "lines_to_next_cell": 2
   },
   "outputs": [],
   "source": [
    "import json, tweepy\n",
    "import re \n",
    "\n",
    "config_file = '.config.json'\n",
    "with open(config_file) as fh:\n",
    "    config = json.load(fh)\n",
    "\n",
    "auth = tweepy.AppAuthHandler(\n",
    "    config['consumer_key'], config['consumer_secret']\n",
    ")\n",
    "\n",
    "api = tweepy.API(auth)"
   ]
  },
  {
   "cell_type": "code",
   "execution_count": null,
   "metadata": {
    "lines_to_next_cell": 0
   },
   "outputs": [],
   "source": [
    "all_tweets = api.user_timeline(screen_name='SpaceX', \n",
    "                           # 200 is the maximum allowed count\n",
    "                           count=10,\n",
    "                           include_rts = True,\n",
    "                           # Necessary to keep full_text \n",
    "                           # otherwise only the first 140 words are extracted\n",
    "                          )\n",
    "print_info(all_tweets)\n",
    "\n",
    "def print_info(tweets):\n",
    "    for info in tweets:\n",
    "         print(\"ID: {}\".format(info.id))\n",
    "         print(info.created_at)\n",
    "         dir(info.retweets)\n",
    "         print(info.text),\n",
    "         print(clean_tweet(info.text))\n",
    "         print(\"\\n\")\n",
    "                        \n",
    "def clean_tweet(tweet):\n",
    "    return ' '.join(re.sub(\"(@[A-Za-z0-9]+)|([^0-9A-Za-z \\t])|(\\w+:\\/\\/\\S+)\", \" \", tweet).split()) "
   ]
  },
  {
   "cell_type": "code",
   "execution_count": null,
   "metadata": {
    "lines_to_next_cell": 0
   },
   "outputs": [],
   "source": [
    "\n",
    "list = [1,23,3]\n"
   ]
  },
  {
   "cell_type": "code",
   "execution_count": null,
   "metadata": {
    "lines_to_next_cell": 2
   },
   "outputs": [],
   "source": []
  }
 ],
 "metadata": {
  "kernelspec": {
   "display_name": "Python 3",
   "language": "python",
   "name": "python3"
  },
  "language_info": {
   "codemirror_mode": {
    "name": "ipython",
    "version": 3
   },
   "file_extension": ".py",
   "mimetype": "text/x-python",
   "name": "python",
   "nbconvert_exporter": "python",
   "pygments_lexer": "ipython3",
   "version": "3.8.1"
  }
 },
 "nbformat": 4,
 "nbformat_minor": 2
}
