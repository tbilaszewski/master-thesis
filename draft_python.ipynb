{
 "cells": [
  {
   "cell_type": "code",
   "execution_count": null,
   "metadata": {
    "lines_to_next_cell": 0
   },
   "outputs": [],
   "source": [
    "#\n",
    "import json\n",
    "import tweepy\n",
    "import re\n",
    "import textblob as tb\n",
    "import numpy as np\n",
    "import yfinance as yf\n",
    "#"
   ]
  },
  {
   "cell_type": "code",
   "execution_count": null,
   "metadata": {},
   "outputs": [],
   "source": [
    "#\n",
    "config_file = '.config.json'\n",
    "with open(config_file) as fh:\n",
    "    config = json.load(fh)\n",
    "\n",
    "auth = tweepy.AppAuthHandler(\n",
    "    config['consumer_key'], config['consumer_secret']\n",
    ")\n",
    "twitter_api = tweepy.API(auth)"
   ]
  },
  {
   "cell_type": "code",
   "execution_count": null,
   "metadata": {
    "lines_to_next_cell": 0
   },
   "outputs": [],
   "source": [
    "\n",
    "\n",
    "def analyze(input_text, _analyzer=tb.en.sentiments.NaiveBayesAnalyzer()):\n",
    "    blob = tb.TextBlob(input_text, analyzer=_analyzer)\n",
    "    for sentence in blob.sentences:\n",
    "        sentiment = sentence.sentiment\n",
    "        print(sentence)\n",
    "        print(sentiment)\n",
    "\n",
    "\n",
    "def prepare_input(tweet):\n",
    "    return ' '.join(re.sub(\"(@[A-Za-z0-9]+)|([^0-9A-Za-z])|(\\w+:\\/\\/\\S+)\", \" \", tweet).split())"
   ]
  },
  {
   "cell_type": "code",
   "execution_count": null,
   "metadata": {
    "lines_to_next_cell": 2
   },
   "outputs": [],
   "source": [
    "for status in tweepy.Cursor(\n",
    "    twitter_api.user_timeline,\n",
    "    screen_name='elonmusk',\n",
    ").items(5):\n",
    "\n",
    "    text = status._json['text']\n",
    "    print(status.created_at)\n",
    "    print(text)\n",
    "    text = prepare_input(text)\n",
    "    analyze(text)"
   ]
  },
  {
   "cell_type": "code",
   "execution_count": null,
   "metadata": {},
   "outputs": [],
   "source": [
    "# TODO: train data"
   ]
  }
 ],
 "metadata": {
  "kernelspec": {
   "display_name": "Python 3",
   "language": "python",
   "name": "python3"
  }
 },
 "nbformat": 4,
 "nbformat_minor": 2
}
