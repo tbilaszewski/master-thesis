{
 "cells": [
  {
   "cell_type": "markdown",
   "metadata": {},
   "source": [
    "### Imports"
   ]
  },
  {
   "cell_type": "code",
   "execution_count": null,
   "metadata": {
    "lines_to_next_cell": 2
   },
   "outputs": [],
   "source": [
    "import json\n",
    "import tweepy\n",
    "import re\n",
    "from textblob import TextBlob\n",
    "import numpy as np\n",
    "import yfinance as yf"
   ]
  },
  {
   "cell_type": "markdown",
   "metadata": {
    "lines_to_next_cell": 0
   },
   "source": [
    "### Twitter api setup"
   ]
  },
  {
   "cell_type": "code",
   "execution_count": null,
   "metadata": {
    "lines_to_next_cell": 0
   },
   "outputs": [],
   "source": [
    "config_file = '.config.json'\n",
    "with open(config_file) as fh:\n",
    "    config = json.load(fh)\n",
    "\n",
    "auth = tweepy.AppAuthHandler(\n",
    "    config['consumer_key'], config['consumer_secret']\n",
    ")\n",
    "api = tweepy.API(auth)\n",
    "# ### "
   ]
  },
  {
   "cell_type": "code",
   "execution_count": null,
   "metadata": {
    "lines_to_next_cell": 0
   },
   "outputs": [],
   "source": [
    "def analyze(input_text):\n",
    "    text = clean_input(input_text)\n",
    "    print(text)\n",
    "    blob = TextBlob(text)\n",
    "    print(blob.noun_phrases)\n",
    "    polarityList = []\n",
    "    for sentence in blob.sentences:\n",
    "        polarity = sentence.sentiment.polarity\n",
    "        polarityList.append(polarity)\n",
    "        if len(blob.sentences) > 1:\n",
    "            print(\"sentence_{} polarity={}\".format(len(polarityList),polarity))\n",
    "    print(\"sentence polarity_sum={}\".format(np.average(polarityList)))\n",
    "\n",
    "\n",
    "\n",
    "def print_info(tweets):\n",
    "    for info in tweets:\n",
    "        print(\"ID: {}\".format(info.id))\n",
    "        print(info.created_at)\n",
    "        print(info.text)\n",
    "        analyze(info.text)\n",
    "        print(\"\\n\")\n",
    "\n",
    "\n",
    "def clean_input(tweet):\n",
    "    return ' '.join(re.sub(\"(@[A-Za-z0-9]+)|([^0-9A-Za-z])|(\\w+:\\/\\/\\S+)\", \" \", tweet).split())"
   ]
  },
  {
   "cell_type": "code",
   "execution_count": null,
   "metadata": {
    "lines_to_next_cell": 2
   },
   "outputs": [],
   "source": [
    "all_tweets = api.user_timeline(screen_name='elonmusk',\n",
    "                               # 200 is the maximum allowed count\n",
    "                               count=10,\n",
    "                               include_rts=True,\n",
    "                               # Necessary to keep full_text\n",
    "                               # otherwise only the first 140 words are extracted\n",
    "                               )\n",
    "print_info(all_tweets)"
   ]
  }
 ],
 "metadata": {
  "kernelspec": {
   "display_name": "Python 3",
   "language": "python",
   "name": "python3"
  },
  "language_info": {
   "codemirror_mode": {
    "name": "ipython",
    "version": 3
   },
   "file_extension": ".py",
   "mimetype": "text/x-python",
   "name": "python",
   "nbconvert_exporter": "python",
   "pygments_lexer": "ipython3",
   "version": "3.8.1"
  }
 },
 "nbformat": 4,
 "nbformat_minor": 2
}
