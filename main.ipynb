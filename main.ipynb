{
 "cells": [
  {
   "cell_type": "markdown",
   "metadata": {
    "lines_to_next_cell": 2
   },
   "source": []
  },
  {
   "cell_type": "code",
   "execution_count": 1,
   "metadata": {},
   "outputs": [],
   "source": [
    "import textblob as tb\n",
    "import numpy as np\n",
    "import pandas as pd\n",
    "import nltk"
   ]
  },
  {
   "cell_type": "code",
   "execution_count": 2,
   "metadata": {},
   "outputs": [],
   "source": [
    "from twitter_helper import TweetTimeLineHelper, cleanTweet, analyze"
   ]
  },
  {
   "cell_type": "markdown",
   "metadata": {},
   "source": [
    "### Fetch tweets from Twitter\n",
    "only for update"
   ]
  },
  {
   "cell_type": "code",
   "execution_count": 3,
   "metadata": {
    "tags": [
     "outputPrepend"
    ]
   },
   "outputs": [],
   "source": [
    "timeLineHelper = TweetTimeLineHelper(items=100)\n",
    "timeLineHelper.saveToCsv()"
   ]
  },
  {
   "cell_type": "code",
   "execution_count": 4,
   "metadata": {},
   "outputs": [],
   "source": [
    "tweets = pd.read_csv('tweets.csv')"
   ]
  },
  {
   "cell_type": "code",
   "execution_count": 5,
   "metadata": {},
   "outputs": [
    {
     "output_type": "execute_result",
     "data": {
      "text/plain": "    Unnamed: 0           created_at  \\\n0            0  2020-05-24 19:06:23   \n1            1  2020-05-24 18:53:47   \n2            2  2020-05-24 18:51:21   \n3            3  2020-05-24 17:41:32   \n4            4  2020-05-24 17:20:43   \n..         ...                  ...   \n95          95  2020-05-15 03:43:50   \n96          96  2020-05-15 01:44:05   \n97          97  2020-05-15 01:28:40   \n98          98  2020-05-15 01:24:09   \n99          99  2020-05-15 01:22:41   \n\n                                                 text  retweet_count  \\\n0                             https://t.co/iSGrzHgENp          11281   \n1                @PPathole @TheOnion Cute as a button             14   \n2                         @TheOnion Fallout New Omaha            109   \n3                                   @NASA @SpaceX 🚀♥️            532   \n4   @jadescipioni @jimkwik His ideas sound sensibl...            264   \n..                                                ...            ...   \n95  In his 18th Brumaire essay (in which he does m...           2865   \n96  @CodingMark @ResistMonsters @TheZenCorner @sto...             40   \n97  @flcnhvy Tesla makes the safest cars in the wo...            279   \n98  @flcnhvy SpaceX has 8000 employees in Californ...            355   \n99  @flcnhvy Absolutely. Tesla already went throug...            660   \n\n    favorite_count  retweeted  \\\n0            93192      False   \n1              626      False   \n2             1847      False   \n3             7675      False   \n4             7810      False   \n..             ...        ...   \n95           25238      False   \n96             801      False   \n97            3080      False   \n98            3196      False   \n99           10175      False   \n\n                                         text_cleaned  \n0                                                      \n1                                    Cute as a button  \n2                                   Fallout New Omaha  \n3                                                      \n4   His ideas sound sensible but he was not my or ...  \n..                                                ...  \n95  In his 18th Brumaire essay in which he does ma...  \n96                                            Exactly  \n97  Tesla makes the safest cars in the world amp o...  \n98  SpaceX has 8000 employees in California Washin...  \n99  Absolutely Tesla already went through this in ...  \n\n[100 rows x 7 columns]",
      "text/html": "<div>\n<style scoped>\n    .dataframe tbody tr th:only-of-type {\n        vertical-align: middle;\n    }\n\n    .dataframe tbody tr th {\n        vertical-align: top;\n    }\n\n    .dataframe thead th {\n        text-align: right;\n    }\n</style>\n<table border=\"1\" class=\"dataframe\">\n  <thead>\n    <tr style=\"text-align: right;\">\n      <th></th>\n      <th>Unnamed: 0</th>\n      <th>created_at</th>\n      <th>text</th>\n      <th>retweet_count</th>\n      <th>favorite_count</th>\n      <th>retweeted</th>\n      <th>text_cleaned</th>\n    </tr>\n  </thead>\n  <tbody>\n    <tr>\n      <th>0</th>\n      <td>0</td>\n      <td>2020-05-24 19:06:23</td>\n      <td>https://t.co/iSGrzHgENp</td>\n      <td>11281</td>\n      <td>93192</td>\n      <td>False</td>\n      <td></td>\n    </tr>\n    <tr>\n      <th>1</th>\n      <td>1</td>\n      <td>2020-05-24 18:53:47</td>\n      <td>@PPathole @TheOnion Cute as a button</td>\n      <td>14</td>\n      <td>626</td>\n      <td>False</td>\n      <td>Cute as a button</td>\n    </tr>\n    <tr>\n      <th>2</th>\n      <td>2</td>\n      <td>2020-05-24 18:51:21</td>\n      <td>@TheOnion Fallout New Omaha</td>\n      <td>109</td>\n      <td>1847</td>\n      <td>False</td>\n      <td>Fallout New Omaha</td>\n    </tr>\n    <tr>\n      <th>3</th>\n      <td>3</td>\n      <td>2020-05-24 17:41:32</td>\n      <td>@NASA @SpaceX 🚀♥️</td>\n      <td>532</td>\n      <td>7675</td>\n      <td>False</td>\n      <td></td>\n    </tr>\n    <tr>\n      <th>4</th>\n      <td>4</td>\n      <td>2020-05-24 17:20:43</td>\n      <td>@jadescipioni @jimkwik His ideas sound sensibl...</td>\n      <td>264</td>\n      <td>7810</td>\n      <td>False</td>\n      <td>His ideas sound sensible but he was not my or ...</td>\n    </tr>\n    <tr>\n      <th>...</th>\n      <td>...</td>\n      <td>...</td>\n      <td>...</td>\n      <td>...</td>\n      <td>...</td>\n      <td>...</td>\n      <td>...</td>\n    </tr>\n    <tr>\n      <th>95</th>\n      <td>95</td>\n      <td>2020-05-15 03:43:50</td>\n      <td>In his 18th Brumaire essay (in which he does m...</td>\n      <td>2865</td>\n      <td>25238</td>\n      <td>False</td>\n      <td>In his 18th Brumaire essay in which he does ma...</td>\n    </tr>\n    <tr>\n      <th>96</th>\n      <td>96</td>\n      <td>2020-05-15 01:44:05</td>\n      <td>@CodingMark @ResistMonsters @TheZenCorner @sto...</td>\n      <td>40</td>\n      <td>801</td>\n      <td>False</td>\n      <td>Exactly</td>\n    </tr>\n    <tr>\n      <th>97</th>\n      <td>97</td>\n      <td>2020-05-15 01:28:40</td>\n      <td>@flcnhvy Tesla makes the safest cars in the wo...</td>\n      <td>279</td>\n      <td>3080</td>\n      <td>False</td>\n      <td>Tesla makes the safest cars in the world amp o...</td>\n    </tr>\n    <tr>\n      <th>98</th>\n      <td>98</td>\n      <td>2020-05-15 01:24:09</td>\n      <td>@flcnhvy SpaceX has 8000 employees in Californ...</td>\n      <td>355</td>\n      <td>3196</td>\n      <td>False</td>\n      <td>SpaceX has 8000 employees in California Washin...</td>\n    </tr>\n    <tr>\n      <th>99</th>\n      <td>99</td>\n      <td>2020-05-15 01:22:41</td>\n      <td>@flcnhvy Absolutely. Tesla already went throug...</td>\n      <td>660</td>\n      <td>10175</td>\n      <td>False</td>\n      <td>Absolutely Tesla already went through this in ...</td>\n    </tr>\n  </tbody>\n</table>\n<p>100 rows × 7 columns</p>\n</div>"
     },
     "metadata": {},
     "execution_count": 5
    }
   ],
   "source": [
    "tweets['text_cleaned'] = tweets['text'].apply(cleanTweet)\n",
    "tweets"
   ]
  },
  {
   "cell_type": "code",
   "execution_count": 6,
   "metadata": {},
   "outputs": [
    {
     "output_type": "execute_result",
     "data": {
      "text/plain": "    Unnamed: 0           created_at  \\\n0            0  2020-05-24 19:06:23   \n1            1  2020-05-24 18:53:47   \n2            2  2020-05-24 18:51:21   \n3            3  2020-05-24 17:41:32   \n4            4  2020-05-24 17:20:43   \n..         ...                  ...   \n95          95  2020-05-15 03:43:50   \n96          96  2020-05-15 01:44:05   \n97          97  2020-05-15 01:28:40   \n98          98  2020-05-15 01:24:09   \n99          99  2020-05-15 01:22:41   \n\n                                                 text  retweet_count  \\\n0                             https://t.co/iSGrzHgENp          11281   \n1                @PPathole @TheOnion Cute as a button             14   \n2                         @TheOnion Fallout New Omaha            109   \n3                                   @NASA @SpaceX 🚀♥️            532   \n4   @jadescipioni @jimkwik His ideas sound sensibl...            264   \n..                                                ...            ...   \n95  In his 18th Brumaire essay (in which he does m...           2865   \n96  @CodingMark @ResistMonsters @TheZenCorner @sto...             40   \n97  @flcnhvy Tesla makes the safest cars in the wo...            279   \n98  @flcnhvy SpaceX has 8000 employees in Californ...            355   \n99  @flcnhvy Absolutely. Tesla already went throug...            660   \n\n    favorite_count  retweeted  \\\n0            93192      False   \n1              626      False   \n2             1847      False   \n3             7675      False   \n4             7810      False   \n..             ...        ...   \n95           25238      False   \n96             801      False   \n97            3080      False   \n98            3196      False   \n99           10175      False   \n\n                                         text_cleaned  \\\n0                                                       \n1                                    Cute as a button   \n2                                   Fallout New Omaha   \n3                                                       \n4   His ideas sound sensible but he was not my or ...   \n..                                                ...   \n95  In his 18th Brumaire essay in which he does ma...   \n96                                            Exactly   \n97  Tesla makes the safest cars in the world amp o...   \n98  SpaceX has 8000 employees in California Washin...   \n99  Absolutely Tesla already went through this in ...   \n\n                    sentiment  \n0                  [pos, 0.5]  \n1   [neg, 0.6960227272727271]  \n2   [pos, 0.7749529190207153]  \n3                  [pos, 0.5]  \n4   [neg, 0.7940997338803678]  \n..                        ...  \n95  [pos, 0.5198992270994944]  \n96  [pos, 0.5359848484848486]  \n97  [neg, 0.6413489744312034]  \n98  [pos, 0.8717406888305073]  \n99  [pos, 0.5168230986910447]  \n\n[100 rows x 8 columns]",
      "text/html": "<div>\n<style scoped>\n    .dataframe tbody tr th:only-of-type {\n        vertical-align: middle;\n    }\n\n    .dataframe tbody tr th {\n        vertical-align: top;\n    }\n\n    .dataframe thead th {\n        text-align: right;\n    }\n</style>\n<table border=\"1\" class=\"dataframe\">\n  <thead>\n    <tr style=\"text-align: right;\">\n      <th></th>\n      <th>Unnamed: 0</th>\n      <th>created_at</th>\n      <th>text</th>\n      <th>retweet_count</th>\n      <th>favorite_count</th>\n      <th>retweeted</th>\n      <th>text_cleaned</th>\n      <th>sentiment</th>\n    </tr>\n  </thead>\n  <tbody>\n    <tr>\n      <th>0</th>\n      <td>0</td>\n      <td>2020-05-24 19:06:23</td>\n      <td>https://t.co/iSGrzHgENp</td>\n      <td>11281</td>\n      <td>93192</td>\n      <td>False</td>\n      <td></td>\n      <td>[pos, 0.5]</td>\n    </tr>\n    <tr>\n      <th>1</th>\n      <td>1</td>\n      <td>2020-05-24 18:53:47</td>\n      <td>@PPathole @TheOnion Cute as a button</td>\n      <td>14</td>\n      <td>626</td>\n      <td>False</td>\n      <td>Cute as a button</td>\n      <td>[neg, 0.6960227272727271]</td>\n    </tr>\n    <tr>\n      <th>2</th>\n      <td>2</td>\n      <td>2020-05-24 18:51:21</td>\n      <td>@TheOnion Fallout New Omaha</td>\n      <td>109</td>\n      <td>1847</td>\n      <td>False</td>\n      <td>Fallout New Omaha</td>\n      <td>[pos, 0.7749529190207153]</td>\n    </tr>\n    <tr>\n      <th>3</th>\n      <td>3</td>\n      <td>2020-05-24 17:41:32</td>\n      <td>@NASA @SpaceX 🚀♥️</td>\n      <td>532</td>\n      <td>7675</td>\n      <td>False</td>\n      <td></td>\n      <td>[pos, 0.5]</td>\n    </tr>\n    <tr>\n      <th>4</th>\n      <td>4</td>\n      <td>2020-05-24 17:20:43</td>\n      <td>@jadescipioni @jimkwik His ideas sound sensibl...</td>\n      <td>264</td>\n      <td>7810</td>\n      <td>False</td>\n      <td>His ideas sound sensible but he was not my or ...</td>\n      <td>[neg, 0.7940997338803678]</td>\n    </tr>\n    <tr>\n      <th>...</th>\n      <td>...</td>\n      <td>...</td>\n      <td>...</td>\n      <td>...</td>\n      <td>...</td>\n      <td>...</td>\n      <td>...</td>\n      <td>...</td>\n    </tr>\n    <tr>\n      <th>95</th>\n      <td>95</td>\n      <td>2020-05-15 03:43:50</td>\n      <td>In his 18th Brumaire essay (in which he does m...</td>\n      <td>2865</td>\n      <td>25238</td>\n      <td>False</td>\n      <td>In his 18th Brumaire essay in which he does ma...</td>\n      <td>[pos, 0.5198992270994944]</td>\n    </tr>\n    <tr>\n      <th>96</th>\n      <td>96</td>\n      <td>2020-05-15 01:44:05</td>\n      <td>@CodingMark @ResistMonsters @TheZenCorner @sto...</td>\n      <td>40</td>\n      <td>801</td>\n      <td>False</td>\n      <td>Exactly</td>\n      <td>[pos, 0.5359848484848486]</td>\n    </tr>\n    <tr>\n      <th>97</th>\n      <td>97</td>\n      <td>2020-05-15 01:28:40</td>\n      <td>@flcnhvy Tesla makes the safest cars in the wo...</td>\n      <td>279</td>\n      <td>3080</td>\n      <td>False</td>\n      <td>Tesla makes the safest cars in the world amp o...</td>\n      <td>[neg, 0.6413489744312034]</td>\n    </tr>\n    <tr>\n      <th>98</th>\n      <td>98</td>\n      <td>2020-05-15 01:24:09</td>\n      <td>@flcnhvy SpaceX has 8000 employees in Californ...</td>\n      <td>355</td>\n      <td>3196</td>\n      <td>False</td>\n      <td>SpaceX has 8000 employees in California Washin...</td>\n      <td>[pos, 0.8717406888305073]</td>\n    </tr>\n    <tr>\n      <th>99</th>\n      <td>99</td>\n      <td>2020-05-15 01:22:41</td>\n      <td>@flcnhvy Absolutely. Tesla already went throug...</td>\n      <td>660</td>\n      <td>10175</td>\n      <td>False</td>\n      <td>Absolutely Tesla already went through this in ...</td>\n      <td>[pos, 0.5168230986910447]</td>\n    </tr>\n  </tbody>\n</table>\n<p>100 rows × 8 columns</p>\n</div>"
     },
     "metadata": {},
     "execution_count": 6
    }
   ],
   "source": [
    "tweets['sentiment'] = tweets['text_cleaned'].map(lambda text: analyze(text))\n",
    "tweets"
   ]
  },
  {
   "cell_type": "code",
   "execution_count": 7,
   "metadata": {},
   "outputs": [
    {
     "output_type": "execute_result",
     "data": {
      "text/plain": "    Unnamed: 0           created_at  \\\n0            0  2020-05-24 19:06:23   \n1            1  2020-05-24 18:53:47   \n2            2  2020-05-24 18:51:21   \n3            3  2020-05-24 17:41:32   \n4            4  2020-05-24 17:20:43   \n..         ...                  ...   \n95          95  2020-05-15 03:43:50   \n96          96  2020-05-15 01:44:05   \n97          97  2020-05-15 01:28:40   \n98          98  2020-05-15 01:24:09   \n99          99  2020-05-15 01:22:41   \n\n                                                 text  retweet_count  \\\n0                             https://t.co/iSGrzHgENp          11281   \n1                @PPathole @TheOnion Cute as a button             14   \n2                         @TheOnion Fallout New Omaha            109   \n3                                   @NASA @SpaceX 🚀♥️            532   \n4   @jadescipioni @jimkwik His ideas sound sensibl...            264   \n..                                                ...            ...   \n95  In his 18th Brumaire essay (in which he does m...           2865   \n96  @CodingMark @ResistMonsters @TheZenCorner @sto...             40   \n97  @flcnhvy Tesla makes the safest cars in the wo...            279   \n98  @flcnhvy SpaceX has 8000 employees in Californ...            355   \n99  @flcnhvy Absolutely. Tesla already went throug...            660   \n\n    favorite_count  retweeted  \\\n0            93192      False   \n1              626      False   \n2             1847      False   \n3             7675      False   \n4             7810      False   \n..             ...        ...   \n95           25238      False   \n96             801      False   \n97            3080      False   \n98            3196      False   \n99           10175      False   \n\n                                         text_cleaned  \\\n0                                                       \n1                                    Cute as a button   \n2                                   Fallout New Omaha   \n3                                                       \n4   His ideas sound sensible but he was not my or ...   \n..                                                ...   \n95  In his 18th Brumaire essay in which he does ma...   \n96                                            Exactly   \n97  Tesla makes the safest cars in the world amp o...   \n98  SpaceX has 8000 employees in California Washin...   \n99  Absolutely Tesla already went through this in ...   \n\n                    sentiment  sentiment_percentage  \\\n0                  [pos, 0.5]              0.500000   \n1   [neg, 0.6960227272727271]              0.696023   \n2   [pos, 0.7749529190207153]              0.774953   \n3                  [pos, 0.5]              0.500000   \n4   [neg, 0.7940997338803678]              0.794100   \n..                        ...                   ...   \n95  [pos, 0.5198992270994944]              0.519899   \n96  [pos, 0.5359848484848486]              0.535985   \n97  [neg, 0.6413489744312034]              0.641349   \n98  [pos, 0.8717406888305073]              0.871741   \n99  [pos, 0.5168230986910447]              0.516823   \n\n    sentiment_classfication_neg  sentiment_classfication_pos  \n0                             0                            1  \n1                             1                            0  \n2                             0                            1  \n3                             0                            1  \n4                             1                            0  \n..                          ...                          ...  \n95                            0                            1  \n96                            0                            1  \n97                            1                            0  \n98                            0                            1  \n99                            0                            1  \n\n[100 rows x 11 columns]",
      "text/html": "<div>\n<style scoped>\n    .dataframe tbody tr th:only-of-type {\n        vertical-align: middle;\n    }\n\n    .dataframe tbody tr th {\n        vertical-align: top;\n    }\n\n    .dataframe thead th {\n        text-align: right;\n    }\n</style>\n<table border=\"1\" class=\"dataframe\">\n  <thead>\n    <tr style=\"text-align: right;\">\n      <th></th>\n      <th>Unnamed: 0</th>\n      <th>created_at</th>\n      <th>text</th>\n      <th>retweet_count</th>\n      <th>favorite_count</th>\n      <th>retweeted</th>\n      <th>text_cleaned</th>\n      <th>sentiment</th>\n      <th>sentiment_percentage</th>\n      <th>sentiment_classfication_neg</th>\n      <th>sentiment_classfication_pos</th>\n    </tr>\n  </thead>\n  <tbody>\n    <tr>\n      <th>0</th>\n      <td>0</td>\n      <td>2020-05-24 19:06:23</td>\n      <td>https://t.co/iSGrzHgENp</td>\n      <td>11281</td>\n      <td>93192</td>\n      <td>False</td>\n      <td></td>\n      <td>[pos, 0.5]</td>\n      <td>0.500000</td>\n      <td>0</td>\n      <td>1</td>\n    </tr>\n    <tr>\n      <th>1</th>\n      <td>1</td>\n      <td>2020-05-24 18:53:47</td>\n      <td>@PPathole @TheOnion Cute as a button</td>\n      <td>14</td>\n      <td>626</td>\n      <td>False</td>\n      <td>Cute as a button</td>\n      <td>[neg, 0.6960227272727271]</td>\n      <td>0.696023</td>\n      <td>1</td>\n      <td>0</td>\n    </tr>\n    <tr>\n      <th>2</th>\n      <td>2</td>\n      <td>2020-05-24 18:51:21</td>\n      <td>@TheOnion Fallout New Omaha</td>\n      <td>109</td>\n      <td>1847</td>\n      <td>False</td>\n      <td>Fallout New Omaha</td>\n      <td>[pos, 0.7749529190207153]</td>\n      <td>0.774953</td>\n      <td>0</td>\n      <td>1</td>\n    </tr>\n    <tr>\n      <th>3</th>\n      <td>3</td>\n      <td>2020-05-24 17:41:32</td>\n      <td>@NASA @SpaceX 🚀♥️</td>\n      <td>532</td>\n      <td>7675</td>\n      <td>False</td>\n      <td></td>\n      <td>[pos, 0.5]</td>\n      <td>0.500000</td>\n      <td>0</td>\n      <td>1</td>\n    </tr>\n    <tr>\n      <th>4</th>\n      <td>4</td>\n      <td>2020-05-24 17:20:43</td>\n      <td>@jadescipioni @jimkwik His ideas sound sensibl...</td>\n      <td>264</td>\n      <td>7810</td>\n      <td>False</td>\n      <td>His ideas sound sensible but he was not my or ...</td>\n      <td>[neg, 0.7940997338803678]</td>\n      <td>0.794100</td>\n      <td>1</td>\n      <td>0</td>\n    </tr>\n    <tr>\n      <th>...</th>\n      <td>...</td>\n      <td>...</td>\n      <td>...</td>\n      <td>...</td>\n      <td>...</td>\n      <td>...</td>\n      <td>...</td>\n      <td>...</td>\n      <td>...</td>\n      <td>...</td>\n      <td>...</td>\n    </tr>\n    <tr>\n      <th>95</th>\n      <td>95</td>\n      <td>2020-05-15 03:43:50</td>\n      <td>In his 18th Brumaire essay (in which he does m...</td>\n      <td>2865</td>\n      <td>25238</td>\n      <td>False</td>\n      <td>In his 18th Brumaire essay in which he does ma...</td>\n      <td>[pos, 0.5198992270994944]</td>\n      <td>0.519899</td>\n      <td>0</td>\n      <td>1</td>\n    </tr>\n    <tr>\n      <th>96</th>\n      <td>96</td>\n      <td>2020-05-15 01:44:05</td>\n      <td>@CodingMark @ResistMonsters @TheZenCorner @sto...</td>\n      <td>40</td>\n      <td>801</td>\n      <td>False</td>\n      <td>Exactly</td>\n      <td>[pos, 0.5359848484848486]</td>\n      <td>0.535985</td>\n      <td>0</td>\n      <td>1</td>\n    </tr>\n    <tr>\n      <th>97</th>\n      <td>97</td>\n      <td>2020-05-15 01:28:40</td>\n      <td>@flcnhvy Tesla makes the safest cars in the wo...</td>\n      <td>279</td>\n      <td>3080</td>\n      <td>False</td>\n      <td>Tesla makes the safest cars in the world amp o...</td>\n      <td>[neg, 0.6413489744312034]</td>\n      <td>0.641349</td>\n      <td>1</td>\n      <td>0</td>\n    </tr>\n    <tr>\n      <th>98</th>\n      <td>98</td>\n      <td>2020-05-15 01:24:09</td>\n      <td>@flcnhvy SpaceX has 8000 employees in Californ...</td>\n      <td>355</td>\n      <td>3196</td>\n      <td>False</td>\n      <td>SpaceX has 8000 employees in California Washin...</td>\n      <td>[pos, 0.8717406888305073]</td>\n      <td>0.871741</td>\n      <td>0</td>\n      <td>1</td>\n    </tr>\n    <tr>\n      <th>99</th>\n      <td>99</td>\n      <td>2020-05-15 01:22:41</td>\n      <td>@flcnhvy Absolutely. Tesla already went throug...</td>\n      <td>660</td>\n      <td>10175</td>\n      <td>False</td>\n      <td>Absolutely Tesla already went through this in ...</td>\n      <td>[pos, 0.5168230986910447]</td>\n      <td>0.516823</td>\n      <td>0</td>\n      <td>1</td>\n    </tr>\n  </tbody>\n</table>\n<p>100 rows × 11 columns</p>\n</div>"
     },
     "metadata": {},
     "execution_count": 7
    }
   ],
   "source": [
    "tweets['sentiment_percentage'] = tweets['sentiment'].apply(lambda x: x[1])\n",
    "tweets['sentiment_classfication'] = tweets['sentiment'].apply(lambda x: x[0])\n",
    "tweets = pd.get_dummies(tweets, columns=['sentiment_classfication'])\n",
    "tweets\n"
   ]
  },
  {
   "cell_type": "code",
   "execution_count": 8,
   "metadata": {},
   "outputs": [],
   "source": [
    "tweets['created_at'] = pd.to_datetime(tweets['created_at'])"
   ]
  },
  {
   "cell_type": "code",
   "execution_count": 18,
   "metadata": {},
   "outputs": [
    {
     "output_type": "execute_result",
     "data": {
      "text/plain": "Empty DataFrame\nColumns: [Unnamed: 0, created_at, text, retweet_count, favorite_count, retweeted, text_cleaned, sentiment, sentiment_percentage, sentiment_classfication_neg, sentiment_classfication_pos]\nIndex: []",
      "text/html": "<div>\n<style scoped>\n    .dataframe tbody tr th:only-of-type {\n        vertical-align: middle;\n    }\n\n    .dataframe tbody tr th {\n        vertical-align: top;\n    }\n\n    .dataframe thead th {\n        text-align: right;\n    }\n</style>\n<table border=\"1\" class=\"dataframe\">\n  <thead>\n    <tr style=\"text-align: right;\">\n      <th></th>\n      <th>Unnamed: 0</th>\n      <th>created_at</th>\n      <th>text</th>\n      <th>retweet_count</th>\n      <th>favorite_count</th>\n      <th>retweeted</th>\n      <th>text_cleaned</th>\n      <th>sentiment</th>\n      <th>sentiment_percentage</th>\n      <th>sentiment_classfication_neg</th>\n      <th>sentiment_classfication_pos</th>\n    </tr>\n  </thead>\n  <tbody>\n  </tbody>\n</table>\n</div>"
     },
     "metadata": {},
     "execution_count": 18
    }
   ],
   "source": [
    "tweets[tweets['created_at'] == '2020-05-16']"
   ]
  },
  {
   "cell_type": "code",
   "execution_count": 19,
   "metadata": {},
   "outputs": [
    {
     "output_type": "execute_result",
     "data": {
      "text/plain": "    Unnamed: 0          created_at  \\\n0            0 2020-05-24 19:06:23   \n1            1 2020-05-24 18:53:47   \n2            2 2020-05-24 18:51:21   \n3            3 2020-05-24 17:41:32   \n4            4 2020-05-24 17:20:43   \n..         ...                 ...   \n95          95 2020-05-15 03:43:50   \n96          96 2020-05-15 01:44:05   \n97          97 2020-05-15 01:28:40   \n98          98 2020-05-15 01:24:09   \n99          99 2020-05-15 01:22:41   \n\n                                                 text  retweet_count  \\\n0                             https://t.co/iSGrzHgENp          11281   \n1                @PPathole @TheOnion Cute as a button             14   \n2                         @TheOnion Fallout New Omaha            109   \n3                                   @NASA @SpaceX 🚀♥️            532   \n4   @jadescipioni @jimkwik His ideas sound sensibl...            264   \n..                                                ...            ...   \n95  In his 18th Brumaire essay (in which he does m...           2865   \n96  @CodingMark @ResistMonsters @TheZenCorner @sto...             40   \n97  @flcnhvy Tesla makes the safest cars in the wo...            279   \n98  @flcnhvy SpaceX has 8000 employees in Californ...            355   \n99  @flcnhvy Absolutely. Tesla already went throug...            660   \n\n    favorite_count  retweeted  \\\n0            93192      False   \n1              626      False   \n2             1847      False   \n3             7675      False   \n4             7810      False   \n..             ...        ...   \n95           25238      False   \n96             801      False   \n97            3080      False   \n98            3196      False   \n99           10175      False   \n\n                                         text_cleaned  \\\n0                                                       \n1                                    Cute as a button   \n2                                   Fallout New Omaha   \n3                                                       \n4   His ideas sound sensible but he was not my or ...   \n..                                                ...   \n95  In his 18th Brumaire essay in which he does ma...   \n96                                            Exactly   \n97  Tesla makes the safest cars in the world amp o...   \n98  SpaceX has 8000 employees in California Washin...   \n99  Absolutely Tesla already went through this in ...   \n\n                    sentiment  sentiment_percentage  \\\n0                  [pos, 0.5]              0.500000   \n1   [neg, 0.6960227272727271]              0.696023   \n2   [pos, 0.7749529190207153]              0.774953   \n3                  [pos, 0.5]              0.500000   \n4   [neg, 0.7940997338803678]              0.794100   \n..                        ...                   ...   \n95  [pos, 0.5198992270994944]              0.519899   \n96  [pos, 0.5359848484848486]              0.535985   \n97  [neg, 0.6413489744312034]              0.641349   \n98  [pos, 0.8717406888305073]              0.871741   \n99  [pos, 0.5168230986910447]              0.516823   \n\n    sentiment_classfication_neg  sentiment_classfication_pos  \n0                             0                            1  \n1                             1                            0  \n2                             0                            1  \n3                             0                            1  \n4                             1                            0  \n..                          ...                          ...  \n95                            0                            1  \n96                            0                            1  \n97                            1                            0  \n98                            0                            1  \n99                            0                            1  \n\n[100 rows x 11 columns]",
      "text/html": "<div>\n<style scoped>\n    .dataframe tbody tr th:only-of-type {\n        vertical-align: middle;\n    }\n\n    .dataframe tbody tr th {\n        vertical-align: top;\n    }\n\n    .dataframe thead th {\n        text-align: right;\n    }\n</style>\n<table border=\"1\" class=\"dataframe\">\n  <thead>\n    <tr style=\"text-align: right;\">\n      <th></th>\n      <th>Unnamed: 0</th>\n      <th>created_at</th>\n      <th>text</th>\n      <th>retweet_count</th>\n      <th>favorite_count</th>\n      <th>retweeted</th>\n      <th>text_cleaned</th>\n      <th>sentiment</th>\n      <th>sentiment_percentage</th>\n      <th>sentiment_classfication_neg</th>\n      <th>sentiment_classfication_pos</th>\n    </tr>\n  </thead>\n  <tbody>\n    <tr>\n      <th>0</th>\n      <td>0</td>\n      <td>2020-05-24 19:06:23</td>\n      <td>https://t.co/iSGrzHgENp</td>\n      <td>11281</td>\n      <td>93192</td>\n      <td>False</td>\n      <td></td>\n      <td>[pos, 0.5]</td>\n      <td>0.500000</td>\n      <td>0</td>\n      <td>1</td>\n    </tr>\n    <tr>\n      <th>1</th>\n      <td>1</td>\n      <td>2020-05-24 18:53:47</td>\n      <td>@PPathole @TheOnion Cute as a button</td>\n      <td>14</td>\n      <td>626</td>\n      <td>False</td>\n      <td>Cute as a button</td>\n      <td>[neg, 0.6960227272727271]</td>\n      <td>0.696023</td>\n      <td>1</td>\n      <td>0</td>\n    </tr>\n    <tr>\n      <th>2</th>\n      <td>2</td>\n      <td>2020-05-24 18:51:21</td>\n      <td>@TheOnion Fallout New Omaha</td>\n      <td>109</td>\n      <td>1847</td>\n      <td>False</td>\n      <td>Fallout New Omaha</td>\n      <td>[pos, 0.7749529190207153]</td>\n      <td>0.774953</td>\n      <td>0</td>\n      <td>1</td>\n    </tr>\n    <tr>\n      <th>3</th>\n      <td>3</td>\n      <td>2020-05-24 17:41:32</td>\n      <td>@NASA @SpaceX 🚀♥️</td>\n      <td>532</td>\n      <td>7675</td>\n      <td>False</td>\n      <td></td>\n      <td>[pos, 0.5]</td>\n      <td>0.500000</td>\n      <td>0</td>\n      <td>1</td>\n    </tr>\n    <tr>\n      <th>4</th>\n      <td>4</td>\n      <td>2020-05-24 17:20:43</td>\n      <td>@jadescipioni @jimkwik His ideas sound sensibl...</td>\n      <td>264</td>\n      <td>7810</td>\n      <td>False</td>\n      <td>His ideas sound sensible but he was not my or ...</td>\n      <td>[neg, 0.7940997338803678]</td>\n      <td>0.794100</td>\n      <td>1</td>\n      <td>0</td>\n    </tr>\n    <tr>\n      <th>...</th>\n      <td>...</td>\n      <td>...</td>\n      <td>...</td>\n      <td>...</td>\n      <td>...</td>\n      <td>...</td>\n      <td>...</td>\n      <td>...</td>\n      <td>...</td>\n      <td>...</td>\n      <td>...</td>\n    </tr>\n    <tr>\n      <th>95</th>\n      <td>95</td>\n      <td>2020-05-15 03:43:50</td>\n      <td>In his 18th Brumaire essay (in which he does m...</td>\n      <td>2865</td>\n      <td>25238</td>\n      <td>False</td>\n      <td>In his 18th Brumaire essay in which he does ma...</td>\n      <td>[pos, 0.5198992270994944]</td>\n      <td>0.519899</td>\n      <td>0</td>\n      <td>1</td>\n    </tr>\n    <tr>\n      <th>96</th>\n      <td>96</td>\n      <td>2020-05-15 01:44:05</td>\n      <td>@CodingMark @ResistMonsters @TheZenCorner @sto...</td>\n      <td>40</td>\n      <td>801</td>\n      <td>False</td>\n      <td>Exactly</td>\n      <td>[pos, 0.5359848484848486]</td>\n      <td>0.535985</td>\n      <td>0</td>\n      <td>1</td>\n    </tr>\n    <tr>\n      <th>97</th>\n      <td>97</td>\n      <td>2020-05-15 01:28:40</td>\n      <td>@flcnhvy Tesla makes the safest cars in the wo...</td>\n      <td>279</td>\n      <td>3080</td>\n      <td>False</td>\n      <td>Tesla makes the safest cars in the world amp o...</td>\n      <td>[neg, 0.6413489744312034]</td>\n      <td>0.641349</td>\n      <td>1</td>\n      <td>0</td>\n    </tr>\n    <tr>\n      <th>98</th>\n      <td>98</td>\n      <td>2020-05-15 01:24:09</td>\n      <td>@flcnhvy SpaceX has 8000 employees in Californ...</td>\n      <td>355</td>\n      <td>3196</td>\n      <td>False</td>\n      <td>SpaceX has 8000 employees in California Washin...</td>\n      <td>[pos, 0.8717406888305073]</td>\n      <td>0.871741</td>\n      <td>0</td>\n      <td>1</td>\n    </tr>\n    <tr>\n      <th>99</th>\n      <td>99</td>\n      <td>2020-05-15 01:22:41</td>\n      <td>@flcnhvy Absolutely. Tesla already went throug...</td>\n      <td>660</td>\n      <td>10175</td>\n      <td>False</td>\n      <td>Absolutely Tesla already went through this in ...</td>\n      <td>[pos, 0.5168230986910447]</td>\n      <td>0.516823</td>\n      <td>0</td>\n      <td>1</td>\n    </tr>\n  </tbody>\n</table>\n<p>100 rows × 11 columns</p>\n</div>"
     },
     "metadata": {},
     "execution_count": 19
    }
   ],
   "source": [
    "tweets"
   ]
  },
  {
   "cell_type": "code",
   "execution_count": 37,
   "metadata": {},
   "outputs": [
    {
     "output_type": "error",
     "ename": "SyntaxError",
     "evalue": "invalid syntax (<ipython-input-37-bdd6671c8d6d>, line 8)",
     "traceback": [
      "\u001b[0;36m  File \u001b[0;32m\"<ipython-input-37-bdd6671c8d6d>\"\u001b[0;36m, line \u001b[0;32m8\u001b[0m\n\u001b[0;31m    tweets_gropuped['strongest_sentiment_class'] = tweets_groupper['sentiment'].max().map(lambda sentiment: sentiment[0] if math.isnan(sentiment[1]))\u001b[0m\n\u001b[0m                                                                                                                                                    ^\u001b[0m\n\u001b[0;31mSyntaxError\u001b[0m\u001b[0;31m:\u001b[0m invalid syntax\n"
     ]
    }
   ],
   "source": [
    "import math\n",
    "\n",
    "tweets_groupper= tweets.groupby(pd.Grouper(key='created_at', freq='1D'))\n",
    "\n",
    "tweets_gropuped = pd.DataFrame()\n",
    "tweets_gropuped['sentiment_count_neg'] = tweets_groupper['sentiment_classfication_neg'].count()\n",
    "tweets_gropuped['sentiment_count_pos'] = tweets_groupper['sentiment_classfication_pos'].count()\n",
    "tweets_gropuped['strongest_sentiment_class'] = tweets_groupper['sentiment'].max().map(lambda sentiment: sentiment[0] if math.isnan(sentiment[1]))\n",
    "tweets_gropuped['strongest_sentiment_value'] = tweets_groupper['sentiment'].max().map(lambda sentiment: sentiment[1] if math.isnan(sentiment[1]))\n",
    "\n",
    "tweets_gropuped['ratio_pos/neg'] = (tweets_gropuped['sentiment_count_pos'] - tweets_gropuped['sentiment_count_neg']) / (tweets_gropuped['sentiment_count_pos'] + tweets_gropuped['sentiment_count_neg'] )\n",
    "tweets_gropuped"
   ]
  },
  {
   "cell_type": "code",
   "execution_count": 11,
   "metadata": {},
   "outputs": [
    {
     "output_type": "error",
     "ename": "SyntaxError",
     "evalue": "invalid syntax (<ipython-input-11-fd41a97784cb>, line 1)",
     "traceback": [
      "\u001b[0;36m  File \u001b[0;32m\"<ipython-input-11-fd41a97784cb>\"\u001b[0;36m, line \u001b[0;32m1\u001b[0m\n\u001b[0;31m    tweets_groupper['sentiment_classfication'].value_counts().groupby('created_at').apply(lambda x: if len(x) > 1 return x))\u001b[0m\n\u001b[0m                                                                                                    ^\u001b[0m\n\u001b[0;31mSyntaxError\u001b[0m\u001b[0;31m:\u001b[0m invalid syntax\n"
     ]
    }
   ],
   "source": [
    "tweets_groupper['sentiment_classfication'].value_counts().groupby('created_at').apply(lambda x: if len(x) > 1 return x))"
   ]
  },
  {
   "cell_type": "code",
   "execution_count": 12,
   "metadata": {},
   "outputs": [
    {
     "output_type": "execute_result",
     "data": {
      "text/plain": "          Date        Open        High         Low       Close   Adj Close  \\\n38  2020-05-18  827.780029  834.719971  803.880005  813.630005  813.630005   \n39  2020-05-19  815.169983  822.070007  806.080017  808.010010  808.010010   \n40  2020-05-20  820.500000  826.000000  811.799988  815.559998  815.559998   \n41  2020-05-21  816.000000  832.500000  796.000000  827.599976  827.599976   \n42  2020-05-22  822.169983  831.780029  812.000000  816.880005  816.880005   \n\n      Volume  \n38  11698100  \n39   9636500  \n40   7309300  \n41  12254600  \n42   9976900  ",
      "text/html": "<div>\n<style scoped>\n    .dataframe tbody tr th:only-of-type {\n        vertical-align: middle;\n    }\n\n    .dataframe tbody tr th {\n        vertical-align: top;\n    }\n\n    .dataframe thead th {\n        text-align: right;\n    }\n</style>\n<table border=\"1\" class=\"dataframe\">\n  <thead>\n    <tr style=\"text-align: right;\">\n      <th></th>\n      <th>Date</th>\n      <th>Open</th>\n      <th>High</th>\n      <th>Low</th>\n      <th>Close</th>\n      <th>Adj Close</th>\n      <th>Volume</th>\n    </tr>\n  </thead>\n  <tbody>\n    <tr>\n      <th>38</th>\n      <td>2020-05-18</td>\n      <td>827.780029</td>\n      <td>834.719971</td>\n      <td>803.880005</td>\n      <td>813.630005</td>\n      <td>813.630005</td>\n      <td>11698100</td>\n    </tr>\n    <tr>\n      <th>39</th>\n      <td>2020-05-19</td>\n      <td>815.169983</td>\n      <td>822.070007</td>\n      <td>806.080017</td>\n      <td>808.010010</td>\n      <td>808.010010</td>\n      <td>9636500</td>\n    </tr>\n    <tr>\n      <th>40</th>\n      <td>2020-05-20</td>\n      <td>820.500000</td>\n      <td>826.000000</td>\n      <td>811.799988</td>\n      <td>815.559998</td>\n      <td>815.559998</td>\n      <td>7309300</td>\n    </tr>\n    <tr>\n      <th>41</th>\n      <td>2020-05-21</td>\n      <td>816.000000</td>\n      <td>832.500000</td>\n      <td>796.000000</td>\n      <td>827.599976</td>\n      <td>827.599976</td>\n      <td>12254600</td>\n    </tr>\n    <tr>\n      <th>42</th>\n      <td>2020-05-22</td>\n      <td>822.169983</td>\n      <td>831.780029</td>\n      <td>812.000000</td>\n      <td>816.880005</td>\n      <td>816.880005</td>\n      <td>9976900</td>\n    </tr>\n  </tbody>\n</table>\n</div>"
     },
     "metadata": {},
     "execution_count": 12
    }
   ],
   "source": [
    "prices = pd.read_csv('TSLA.csv')\n",
    "prices.tail()\n",
    "# prices.loc[prices['Date'] == '2020-04-01']\n",
    "# prices.iloc[7]\n",
    "# \n",
    "\n"
   ]
  },
  {
   "cell_type": "code",
   "execution_count": 13,
   "metadata": {},
   "outputs": [],
   "source": [
    "tweets_gropuped = tweets_gropuped.reset_index()"
   ]
  },
  {
   "cell_type": "code",
   "execution_count": 14,
   "metadata": {},
   "outputs": [
    {
     "output_type": "execute_result",
     "data": {
      "text/plain": "  created_at  sentiment_count_neg  sentiment_count_pos  \\\n0 2020-05-15                   44                   44   \n1 2020-05-16                    0                    0   \n2 2020-05-17                    7                    7   \n3 2020-05-18                    3                    3   \n4 2020-05-19                    7                    7   \n5 2020-05-20                    1                    1   \n6 2020-05-21                    6                    6   \n7 2020-05-22                   14                   14   \n8 2020-05-23                   13                   13   \n9 2020-05-24                    5                    5   \n\n                                       next_day_open  \n0  Empty DataFrame\nColumns: [Date, Open, High, Lo...  \n1  Empty DataFrame\nColumns: [Date, Open, High, Lo...  \n2  Empty DataFrame\nColumns: [Date, Open, High, Lo...  \n3  Empty DataFrame\nColumns: [Date, Open, High, Lo...  \n4  Empty DataFrame\nColumns: [Date, Open, High, Lo...  \n5  Empty DataFrame\nColumns: [Date, Open, High, Lo...  \n6  Empty DataFrame\nColumns: [Date, Open, High, Lo...  \n7  Empty DataFrame\nColumns: [Date, Open, High, Lo...  \n8  Empty DataFrame\nColumns: [Date, Open, High, Lo...  \n9  Empty DataFrame\nColumns: [Date, Open, High, Lo...  ",
      "text/html": "<div>\n<style scoped>\n    .dataframe tbody tr th:only-of-type {\n        vertical-align: middle;\n    }\n\n    .dataframe tbody tr th {\n        vertical-align: top;\n    }\n\n    .dataframe thead th {\n        text-align: right;\n    }\n</style>\n<table border=\"1\" class=\"dataframe\">\n  <thead>\n    <tr style=\"text-align: right;\">\n      <th></th>\n      <th>created_at</th>\n      <th>sentiment_count_neg</th>\n      <th>sentiment_count_pos</th>\n      <th>next_day_open</th>\n    </tr>\n  </thead>\n  <tbody>\n    <tr>\n      <th>0</th>\n      <td>2020-05-15</td>\n      <td>44</td>\n      <td>44</td>\n      <td>Empty DataFrame\nColumns: [Date, Open, High, Lo...</td>\n    </tr>\n    <tr>\n      <th>1</th>\n      <td>2020-05-16</td>\n      <td>0</td>\n      <td>0</td>\n      <td>Empty DataFrame\nColumns: [Date, Open, High, Lo...</td>\n    </tr>\n    <tr>\n      <th>2</th>\n      <td>2020-05-17</td>\n      <td>7</td>\n      <td>7</td>\n      <td>Empty DataFrame\nColumns: [Date, Open, High, Lo...</td>\n    </tr>\n    <tr>\n      <th>3</th>\n      <td>2020-05-18</td>\n      <td>3</td>\n      <td>3</td>\n      <td>Empty DataFrame\nColumns: [Date, Open, High, Lo...</td>\n    </tr>\n    <tr>\n      <th>4</th>\n      <td>2020-05-19</td>\n      <td>7</td>\n      <td>7</td>\n      <td>Empty DataFrame\nColumns: [Date, Open, High, Lo...</td>\n    </tr>\n    <tr>\n      <th>5</th>\n      <td>2020-05-20</td>\n      <td>1</td>\n      <td>1</td>\n      <td>Empty DataFrame\nColumns: [Date, Open, High, Lo...</td>\n    </tr>\n    <tr>\n      <th>6</th>\n      <td>2020-05-21</td>\n      <td>6</td>\n      <td>6</td>\n      <td>Empty DataFrame\nColumns: [Date, Open, High, Lo...</td>\n    </tr>\n    <tr>\n      <th>7</th>\n      <td>2020-05-22</td>\n      <td>14</td>\n      <td>14</td>\n      <td>Empty DataFrame\nColumns: [Date, Open, High, Lo...</td>\n    </tr>\n    <tr>\n      <th>8</th>\n      <td>2020-05-23</td>\n      <td>13</td>\n      <td>13</td>\n      <td>Empty DataFrame\nColumns: [Date, Open, High, Lo...</td>\n    </tr>\n    <tr>\n      <th>9</th>\n      <td>2020-05-24</td>\n      <td>5</td>\n      <td>5</td>\n      <td>Empty DataFrame\nColumns: [Date, Open, High, Lo...</td>\n    </tr>\n  </tbody>\n</table>\n</div>"
     },
     "metadata": {},
     "execution_count": 14
    }
   ],
   "source": [
    "tweets_gropuped['next_day_open'] = tweets_gropuped['created_at'].apply(lambda date: prices.loc[prices['Date'] == date])\n",
    "tweets_gropuped"
   ]
  },
  {
   "cell_type": "code",
   "execution_count": null,
   "metadata": {},
   "outputs": [],
   "source": []
  }
 ],
 "metadata": {
  "kernelspec": {
   "display_name": "Python 3",
   "language": "python",
   "name": "python3"
  },
  "language_info": {
   "codemirror_mode": {
    "name": "ipython",
    "version": 3
   },
   "file_extension": ".py",
   "mimetype": "text/x-python",
   "name": "python",
   "nbconvert_exporter": "python",
   "pygments_lexer": "ipython3",
   "version": "3.8.1-final"
  }
 },
 "nbformat": 4,
 "nbformat_minor": 2
}