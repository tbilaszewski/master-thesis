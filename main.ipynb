{
 "cells": [
  {
   "cell_type": "markdown",
   "metadata": {
    "lines_to_next_cell": 2
   },
   "source": []
  },
  {
   "cell_type": "code",
   "execution_count": 1,
   "metadata": {},
   "outputs": [],
   "source": [
    "import textblob as tb\n",
    "import numpy as np\n",
    "import pandas as pd\n",
    "import nltk"
   ]
  },
  {
   "cell_type": "code",
   "execution_count": 2,
   "metadata": {},
   "outputs": [],
   "source": [
    "from twitter_helper import TweetTimeLineHelper, cleanTweet, analyze"
   ]
  },
  {
   "cell_type": "markdown",
   "metadata": {},
   "source": [
    "### Fetch tweets from Twitter\n",
    "only for update"
   ]
  },
  {
   "cell_type": "code",
   "execution_count": 3,
   "metadata": {
    "tags": [
     "outputPrepend"
    ]
   },
   "outputs": [],
   "source": [
    "update = False\n",
    "if(update == True):\n",
    "    timeLineHelper = TweetTimeLineHelper(items=6)\n",
    "    timeLineHelper.saveToCsv()"
   ]
  },
  {
   "cell_type": "code",
   "execution_count": 4,
   "metadata": {},
   "outputs": [],
   "source": [
    "tweets = pd.read_csv('tweets.csv')"
   ]
  },
  {
   "cell_type": "code",
   "execution_count": 5,
   "metadata": {},
   "outputs": [
    {
     "output_type": "execute_result",
     "data": {
      "text/plain": "   Unnamed: 0           created_at  \\\n0           0  2020-05-23 23:30:15   \n1           1  2020-05-23 23:20:29   \n2           2  2020-05-23 22:36:38   \n3           3  2020-05-23 19:39:50   \n4           4  2020-05-23 19:35:44   \n5           5  2020-05-23 19:33:50   \n\n                                                text  retweet_count  \\\n0  @JonErlichman 5 years ago. We need to accelera...           1216   \n1  RT @SpaceX: SpaceX and @NASA completed a full ...           4182   \n2  @Erdayastronaut @NASA @SpaceX Mars needs to ha...            491   \n3                            Made on Earth by humans           2752   \n4                            https://t.co/72pvzGWAs8           9631   \n5               @cbs_spacenews @NASASpaceflight Cool             43   \n\n   favorite_count  retweeted  \\\n0           21463      False   \n1               0      False   \n2            8554      False   \n3           61410      False   \n4          133212      False   \n5            1907      False   \n\n                                        text_cleaned  \n0  5 years ago We need to accelerate progress tow...  \n1  RT SpaceX and completed a full rehearsal of la...  \n2                          Mars needs to happen soon  \n3                            Made on Earth by humans  \n4                                                     \n5                                     spacenews Cool  ",
      "text/html": "<div>\n<style scoped>\n    .dataframe tbody tr th:only-of-type {\n        vertical-align: middle;\n    }\n\n    .dataframe tbody tr th {\n        vertical-align: top;\n    }\n\n    .dataframe thead th {\n        text-align: right;\n    }\n</style>\n<table border=\"1\" class=\"dataframe\">\n  <thead>\n    <tr style=\"text-align: right;\">\n      <th></th>\n      <th>Unnamed: 0</th>\n      <th>created_at</th>\n      <th>text</th>\n      <th>retweet_count</th>\n      <th>favorite_count</th>\n      <th>retweeted</th>\n      <th>text_cleaned</th>\n    </tr>\n  </thead>\n  <tbody>\n    <tr>\n      <th>0</th>\n      <td>0</td>\n      <td>2020-05-23 23:30:15</td>\n      <td>@JonErlichman 5 years ago. We need to accelera...</td>\n      <td>1216</td>\n      <td>21463</td>\n      <td>False</td>\n      <td>5 years ago We need to accelerate progress tow...</td>\n    </tr>\n    <tr>\n      <th>1</th>\n      <td>1</td>\n      <td>2020-05-23 23:20:29</td>\n      <td>RT @SpaceX: SpaceX and @NASA completed a full ...</td>\n      <td>4182</td>\n      <td>0</td>\n      <td>False</td>\n      <td>RT SpaceX and completed a full rehearsal of la...</td>\n    </tr>\n    <tr>\n      <th>2</th>\n      <td>2</td>\n      <td>2020-05-23 22:36:38</td>\n      <td>@Erdayastronaut @NASA @SpaceX Mars needs to ha...</td>\n      <td>491</td>\n      <td>8554</td>\n      <td>False</td>\n      <td>Mars needs to happen soon</td>\n    </tr>\n    <tr>\n      <th>3</th>\n      <td>3</td>\n      <td>2020-05-23 19:39:50</td>\n      <td>Made on Earth by humans</td>\n      <td>2752</td>\n      <td>61410</td>\n      <td>False</td>\n      <td>Made on Earth by humans</td>\n    </tr>\n    <tr>\n      <th>4</th>\n      <td>4</td>\n      <td>2020-05-23 19:35:44</td>\n      <td>https://t.co/72pvzGWAs8</td>\n      <td>9631</td>\n      <td>133212</td>\n      <td>False</td>\n      <td></td>\n    </tr>\n    <tr>\n      <th>5</th>\n      <td>5</td>\n      <td>2020-05-23 19:33:50</td>\n      <td>@cbs_spacenews @NASASpaceflight Cool</td>\n      <td>43</td>\n      <td>1907</td>\n      <td>False</td>\n      <td>spacenews Cool</td>\n    </tr>\n  </tbody>\n</table>\n</div>"
     },
     "metadata": {},
     "execution_count": 5
    }
   ],
   "source": [
    "tweets['text_cleaned'] = tweets['text'].apply(cleanTweet)\n",
    "tweets"
   ]
  },
  {
   "cell_type": "code",
   "execution_count": 6,
   "metadata": {},
   "outputs": [
    {
     "output_type": "execute_result",
     "data": {
      "text/plain": "   Unnamed: 0           created_at  \\\n0           0  2020-05-23 23:30:15   \n1           1  2020-05-23 23:20:29   \n2           2  2020-05-23 22:36:38   \n3           3  2020-05-23 19:39:50   \n4           4  2020-05-23 19:35:44   \n5           5  2020-05-23 19:33:50   \n\n                                                text  retweet_count  \\\n0  @JonErlichman 5 years ago. We need to accelera...           1216   \n1  RT @SpaceX: SpaceX and @NASA completed a full ...           4182   \n2  @Erdayastronaut @NASA @SpaceX Mars needs to ha...            491   \n3                            Made on Earth by humans           2752   \n4                            https://t.co/72pvzGWAs8           9631   \n5               @cbs_spacenews @NASASpaceflight Cool             43   \n\n   favorite_count  retweeted  \\\n0           21463      False   \n1               0      False   \n2            8554      False   \n3           61410      False   \n4          133212      False   \n5            1907      False   \n\n                                        text_cleaned  \\\n0  5 years ago We need to accelerate progress tow...   \n1  RT SpaceX and completed a full rehearsal of la...   \n2                          Mars needs to happen soon   \n3                            Made on Earth by humans   \n4                                                      \n5                                     spacenews Cool   \n\n                   sentiment  \n0   [pos, 0.528950665210103]  \n1  [pos, 0.8969973487889568]  \n2  [neg, 0.6346428783779366]  \n3  [neg, 0.5148527948446605]  \n4                 [pos, 0.5]  \n5  [neg, 0.5474683544303799]  ",
      "text/html": "<div>\n<style scoped>\n    .dataframe tbody tr th:only-of-type {\n        vertical-align: middle;\n    }\n\n    .dataframe tbody tr th {\n        vertical-align: top;\n    }\n\n    .dataframe thead th {\n        text-align: right;\n    }\n</style>\n<table border=\"1\" class=\"dataframe\">\n  <thead>\n    <tr style=\"text-align: right;\">\n      <th></th>\n      <th>Unnamed: 0</th>\n      <th>created_at</th>\n      <th>text</th>\n      <th>retweet_count</th>\n      <th>favorite_count</th>\n      <th>retweeted</th>\n      <th>text_cleaned</th>\n      <th>sentiment</th>\n    </tr>\n  </thead>\n  <tbody>\n    <tr>\n      <th>0</th>\n      <td>0</td>\n      <td>2020-05-23 23:30:15</td>\n      <td>@JonErlichman 5 years ago. We need to accelera...</td>\n      <td>1216</td>\n      <td>21463</td>\n      <td>False</td>\n      <td>5 years ago We need to accelerate progress tow...</td>\n      <td>[pos, 0.528950665210103]</td>\n    </tr>\n    <tr>\n      <th>1</th>\n      <td>1</td>\n      <td>2020-05-23 23:20:29</td>\n      <td>RT @SpaceX: SpaceX and @NASA completed a full ...</td>\n      <td>4182</td>\n      <td>0</td>\n      <td>False</td>\n      <td>RT SpaceX and completed a full rehearsal of la...</td>\n      <td>[pos, 0.8969973487889568]</td>\n    </tr>\n    <tr>\n      <th>2</th>\n      <td>2</td>\n      <td>2020-05-23 22:36:38</td>\n      <td>@Erdayastronaut @NASA @SpaceX Mars needs to ha...</td>\n      <td>491</td>\n      <td>8554</td>\n      <td>False</td>\n      <td>Mars needs to happen soon</td>\n      <td>[neg, 0.6346428783779366]</td>\n    </tr>\n    <tr>\n      <th>3</th>\n      <td>3</td>\n      <td>2020-05-23 19:39:50</td>\n      <td>Made on Earth by humans</td>\n      <td>2752</td>\n      <td>61410</td>\n      <td>False</td>\n      <td>Made on Earth by humans</td>\n      <td>[neg, 0.5148527948446605]</td>\n    </tr>\n    <tr>\n      <th>4</th>\n      <td>4</td>\n      <td>2020-05-23 19:35:44</td>\n      <td>https://t.co/72pvzGWAs8</td>\n      <td>9631</td>\n      <td>133212</td>\n      <td>False</td>\n      <td></td>\n      <td>[pos, 0.5]</td>\n    </tr>\n    <tr>\n      <th>5</th>\n      <td>5</td>\n      <td>2020-05-23 19:33:50</td>\n      <td>@cbs_spacenews @NASASpaceflight Cool</td>\n      <td>43</td>\n      <td>1907</td>\n      <td>False</td>\n      <td>spacenews Cool</td>\n      <td>[neg, 0.5474683544303799]</td>\n    </tr>\n  </tbody>\n</table>\n</div>"
     },
     "metadata": {},
     "execution_count": 6
    }
   ],
   "source": [
    "tweets['sentiment'] = tweets['text_cleaned'].map(lambda text: analyze(text))\n",
    "tweets"
   ]
  },
  {
   "cell_type": "code",
   "execution_count": null,
   "metadata": {},
   "outputs": [],
   "source": []
  }
 ],
 "metadata": {
  "kernelspec": {
   "display_name": "Python 3",
   "language": "python",
   "name": "python3"
  },
  "language_info": {
   "codemirror_mode": {
    "name": "ipython",
    "version": 3
   },
   "file_extension": ".py",
   "mimetype": "text/x-python",
   "name": "python",
   "nbconvert_exporter": "python",
   "pygments_lexer": "ipython3",
   "version": "3.8.1-final"
  }
 },
 "nbformat": 4,
 "nbformat_minor": 2
}